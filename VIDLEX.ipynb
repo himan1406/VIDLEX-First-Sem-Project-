{
 "cells": [
  {
   "cell_type": "code",
   "execution_count": null,
   "id": "b1cb7d9a-f2f5-4a97-b36c-b804d0678fd4",
   "metadata": {},
   "outputs": [],
   "source": []
  }
 ],
 "metadata": {
  "kernelspec": {
   "display_name": "",
   "name": ""
  },
  "language_info": {
   "name": ""
  }
 },
 "nbformat": 4,
 "nbformat_minor": 5
}
